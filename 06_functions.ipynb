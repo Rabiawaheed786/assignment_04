{
  "nbformat": 4,
  "nbformat_minor": 0,
  "metadata": {
    "colab": {
      "provenance": [],
      "authorship_tag": "ABX9TyPtB5V203tbcTx3jU/yYYVc",
      "include_colab_link": true
    },
    "kernelspec": {
      "name": "python3",
      "display_name": "Python 3"
    },
    "language_info": {
      "name": "python"
    }
  },
  "cells": [
    {
      "cell_type": "markdown",
      "metadata": {
        "id": "view-in-github",
        "colab_type": "text"
      },
      "source": [
        "<a href=\"https://colab.research.google.com/github/Rabiawaheed786/assignment_04/blob/main/06_functions.ipynb\" target=\"_parent\"><img src=\"https://colab.research.google.com/assets/colab-badge.svg\" alt=\"Open In Colab\"/></a>"
      ]
    },
    {
      "cell_type": "code",
      "execution_count": null,
      "metadata": {
        "id": "yNp8J2N82IFb"
      },
      "outputs": [],
      "source": [
        "print(\"00_averages.py\")\n",
        "\n",
        "def averages(num1:int, num2:int):\n",
        "\n",
        "  result = (num1+num2)/2\n",
        "  return result\n",
        "\n",
        "print(\"Average of two numbers are: \" , averages(10,20))"
      ]
    },
    {
      "cell_type": "code",
      "source": [
        "print(\"02_count_even.py\")\n",
        "\n",
        "\n",
        "def count_even(lst):\n",
        "  print(\"\\nEven numbers\")\n",
        "  print(\"=\"*10)\n",
        "\n",
        "  for i in lst:\n",
        "    if i%2==0:\n",
        "      print(i,end=\" \")\n",
        "\n",
        "\n",
        "\n",
        "\n",
        "def main():\n",
        "  lst=[]\n",
        "  ask = input(\"Enter numbers: \")\n",
        "  while ask != \"\":\n",
        "    lst.append(int(ask))\n",
        "    ask = input(\"Enter numbers: \")\n",
        "\n",
        "  count_even(lst)\n",
        "\n",
        "\n",
        "\n",
        "if __name__ == '__main__':\n",
        "    main()"
      ],
      "metadata": {
        "id": "3l467bRf2dA3"
      },
      "execution_count": null,
      "outputs": []
    },
    {
      "cell_type": "code",
      "source": [
        "print(\"03_double.py\")\n",
        "\n",
        "def double_num(num):\n",
        "  return num*2\n",
        "\n",
        "\n",
        "def main():\n",
        "  ask_num = int (input(\"enter number: \"))\n",
        "  double = double_num(ask_num)\n",
        "  print(f\"Double of {ask_num} is {double} \")\n",
        "\n",
        "\n",
        "if __name__ == '__main__':\n",
        "    main()"
      ],
      "metadata": {
        "id": "ZcAwaY4Y2piv"
      },
      "execution_count": null,
      "outputs": []
    },
    {
      "cell_type": "code",
      "source": [
        "print(\"04_get_name.py\")\n",
        "\n",
        "def get_name(name:str):\n",
        "  print(f\"Hello Dear {name} 🙋‍♀️\")\n",
        "\n",
        "\n",
        "def main():\n",
        "  name = input(\"enter name: \")\n",
        "  get_name(name)\n",
        "\n",
        "\n",
        "if __name__ == '__main__':\n",
        "    main()"
      ],
      "metadata": {
        "id": "liCjkDkK20N_"
      },
      "execution_count": null,
      "outputs": []
    },
    {
      "cell_type": "code",
      "source": [
        "print(\"06_is_odd.py\")\n",
        "\n",
        "\n",
        "def is_num(lst):\n",
        "\n",
        "  for i in lst:\n",
        "    if i % 2 == 0:\n",
        "      print (f\" {i} is even\", end = \" \")\n",
        "    else:\n",
        "      print (f\" {i} is odd\", end = \" \")\n",
        "\n",
        "def main():\n",
        "  lst=[]\n",
        "  ask = int(input(\"enter number: \"))\n",
        "  while ask != \"\":\n",
        "    lst.append(int(ask))\n",
        "    ask = input(\"enter number: \")\n",
        "\n",
        "\n",
        "  is_num(lst)\n",
        "\n",
        "if __name__ == \"__main__\":\n",
        "  main()"
      ],
      "metadata": {
        "id": "b1kiY7di3C8E"
      },
      "execution_count": null,
      "outputs": []
    },
    {
      "cell_type": "code",
      "source": [
        "print(\"07_print_divisor.py\")\n",
        "\n",
        "\n",
        "def print_divisor(num:int):\n",
        "\n",
        "  print(f\"Divisors of {num}\")\n",
        "  print(\"*\"*15)\n",
        "  for i in range(1,num+1):\n",
        "\n",
        "    if num % i == 0:\n",
        "      print(i, end = \" \")\n",
        "\n",
        "def main():\n",
        "\n",
        "  ask_num = int(input(\"enter number: \"))\n",
        "  print_divisor(ask_num)\n",
        "\n",
        "if __name__ == \"__main__\":\n",
        "  main()\n"
      ],
      "metadata": {
        "id": "67PaLOtB3Xb3"
      },
      "execution_count": null,
      "outputs": []
    },
    {
      "cell_type": "code",
      "source": [
        "print(\"08_print_multiple.py\")\n",
        "\n",
        "def print_multiple(sentence:str, num:int):\n",
        "  print(sentence*num)\n",
        "\n",
        "\n",
        "def main():\n",
        "  ask_sentence = input(\"Enter a sentence: \")\n",
        "  ask_num = int(input(\"Enter a number: \"))\n",
        "  print_multiple(ask_sentence, ask_num)\n",
        "\n",
        "\n",
        "if __name__ == \"__main__\":\n",
        "  main()"
      ],
      "metadata": {
        "id": "vl83GRwj3kGc"
      },
      "execution_count": null,
      "outputs": []
    },
    {
      "cell_type": "code",
      "source": [
        "print(\"09_sentence_generator.py\")\n",
        "\n",
        "def generate_sentence(word:str,num:int):\n",
        "  if num == 1:\n",
        "    print(f\"Looking out my {word}, the sky is big and groovy!\")\n",
        "\n",
        "  elif num == 2:\n",
        "    print(f\"Looking out my window, the sky is big and {word}!\")\n",
        "  elif num == 3:\n",
        "    print(f\"Looking out my window, the sky is {word} and groovy! \")\n",
        "\n",
        "def main():\n",
        "  ques1= input(\"Enter any word : \")\n",
        "  ques2= int(input(f\"The word {ques1} is noun/verb/adjective? \\n Choose number: \\n1. Noun \\n2. Verb \\n3. Adjective : \"))\n",
        "  generate_sentence(ques1,ques2)\n",
        "\n",
        "if __name__ == \"__main__\":\n",
        "  main()"
      ],
      "metadata": {
        "id": "iO8aXqu734En"
      },
      "execution_count": null,
      "outputs": []
    },
    {
      "cell_type": "code",
      "source": [
        "print(\"10_print_ones_digit.py\")\n",
        "\n",
        "def print_ones_digit(num:int):\n",
        "  print(f\"Ones digit of {num} is {num%10}\")\n",
        "def main():\n",
        "  enter_num = int(input(\"Enter any number : \"))\n",
        "  print_ones_digit(enter_num)\n",
        "\n",
        "if __name__ == \"__main__\":\n",
        "  main()"
      ],
      "metadata": {
        "id": "HOSpbvhm4Afw"
      },
      "execution_count": null,
      "outputs": []
    },
    {
      "cell_type": "code",
      "source": [],
      "metadata": {
        "id": "ncy8pics4Mo-"
      },
      "execution_count": null,
      "outputs": []
    }
  ]
}