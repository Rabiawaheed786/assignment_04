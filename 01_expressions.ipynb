{
  "nbformat": 4,
  "nbformat_minor": 0,
  "metadata": {
    "colab": {
      "provenance": [],
      "authorship_tag": "ABX9TyPy3Mh0lAQzm/n5BS6ROAQp",
      "include_colab_link": true
    },
    "kernelspec": {
      "name": "python3",
      "display_name": "Python 3"
    },
    "language_info": {
      "name": "python"
    }
  },
  "cells": [
    {
      "cell_type": "markdown",
      "metadata": {
        "id": "view-in-github",
        "colab_type": "text"
      },
      "source": [
        "<a href=\"https://colab.research.google.com/github/Rabiawaheed786/assignment_04/blob/main/01_expressions.ipynb\" target=\"_parent\"><img src=\"https://colab.research.google.com/assets/colab-badge.svg\" alt=\"Open In Colab\"/></a>"
      ]
    },
    {
      "cell_type": "code",
      "execution_count": 1,
      "metadata": {
        "colab": {
          "base_uri": "https://localhost:8080/"
        },
        "id": "FGILPg2dit6K",
        "outputId": "b061e64a-806f-413d-e1c7-490893bbb929"
      },
      "outputs": [
        {
          "output_type": "stream",
          "name": "stdout",
          "text": [
            "01_rolling_dice\n",
            "Roll # 1= Die 1: \"6\" Die 2: \"3\"\n",
            "Roll # 2= Die 1: \"4\" Die 2: \"5\"\n",
            "Roll # 3= Die 1: \"4\" Die 2: \"1\"\n"
          ]
        }
      ],
      "source": [
        "print (\"01_rolling_dice\")\n",
        "import random\n",
        "\n",
        "#global variable which is accessible throughtout anywhere\n",
        "\n",
        "\n",
        "global_variable_roll_count=3\n",
        "\n",
        "\n",
        "#function for rolling dice\n",
        "\n",
        "\n",
        "#local variables are die_1 and die_2 which is only accessible within function roll_dice\n",
        "\n",
        "def roll_dice():\n",
        "  die_1 = random.randint(1,6)\n",
        "  die_2 = random.randint(1,6)\n",
        "  return die_1,die_2\n",
        "\n",
        "#main function to call roll_dice function\n",
        "\n",
        "def main_dice_roll():\n",
        "  for i in range(global_variable_roll_count):\n",
        "    die_1,die_2=roll_dice()\n",
        "    print(f'Roll # {i+1}= Die 1: \"{die_1}\" Die 2: \"{die_2}\"')\n",
        "\n",
        "main_dice_roll()"
      ]
    },
    {
      "cell_type": "code",
      "source": [
        "print(\"02_e=mc2.py\")\n",
        "\n",
        "ask_question: int = \"Enter mass:\"\n",
        "speed_of_light :int = 299792458\n",
        "\n",
        "mass = int(input(ask_question))\n",
        "\n",
        "def calculate_energy(mass):\n",
        "  energy = mass * speed_of_light**2\n",
        "  return energy\n",
        "\n",
        "print(f'Energy: {calculate_energy(mass)}')\n"
      ],
      "metadata": {
        "colab": {
          "base_uri": "https://localhost:8080/"
        },
        "id": "gxzvnVUqlAW3",
        "outputId": "6db5dfcf-e98a-4fea-811b-f403afd6040c"
      },
      "execution_count": 2,
      "outputs": [
        {
          "output_type": "stream",
          "name": "stdout",
          "text": [
            "02_e=mc2.py\n",
            "Enter mass:130\n",
            "Energy: 11683817323578629320\n"
          ]
        }
      ]
    },
    {
      "cell_type": "code",
      "source": [
        "print(\"03_feet-to-inches.py\")\n",
        "question= \"Enter measurement in Feet: \"\n",
        "\n",
        "feet =float(input(question))\n",
        "\n",
        "\n",
        "\n",
        "def feet_to_inches(num):\n",
        "  inches = num * 12\n",
        "  return inches\n",
        "\n",
        "print(f'Inches: {feet_to_inches(feet)}')"
      ],
      "metadata": {
        "colab": {
          "base_uri": "https://localhost:8080/"
        },
        "id": "klysfHsWlkfW",
        "outputId": "490ccc09-d4f4-4ad4-be11-f637a6322547"
      },
      "execution_count": 3,
      "outputs": [
        {
          "output_type": "stream",
          "name": "stdout",
          "text": [
            "03_feet-to-inches.py\n",
            "Enter measurement in Feet: 7\n",
            "Inches: 84.0\n"
          ]
        }
      ]
    },
    {
      "cell_type": "code",
      "source": [
        "print(\"04_pythagorean_theorem.py\")\n",
        "ask_1=\"Enter first length of right angle triangle: \"\n",
        "ask_2=\"Enter second length of right angle triangle: \"\n",
        "\n",
        "length_1 = float(input(ask_1))\n",
        "length_2 = float(input(ask_2))\n",
        "\n",
        "def claculate_length(num1,num2):\n",
        "  length_3 = (num1**2 + num2**2)**0.5\n",
        "  return length_3\n",
        "\n",
        "print(f'Length of third side: {claculate_length(length_1,length_2)}')\n",
        "\n",
        "\n"
      ],
      "metadata": {
        "colab": {
          "base_uri": "https://localhost:8080/"
        },
        "id": "36FKIMZnmBBs",
        "outputId": "1856d80a-599e-4ec5-80c3-ce024a64e0de"
      },
      "execution_count": 4,
      "outputs": [
        {
          "output_type": "stream",
          "name": "stdout",
          "text": [
            "04_pythagorean_theorem.py\n",
            "Enter first length of right angle triangle: 45\n",
            "Enter second length of right angle triangle: 2\n",
            "Length of third side: 45.044422518220834\n"
          ]
        }
      ]
    },
    {
      "cell_type": "code",
      "source": [
        "print(\"05_remainder-division.py\")\n",
        "\n",
        "enter_1:int=\"\\033[1m\\033[3mEnter first number: \\033[0m\"\n",
        "enter_2:int=\"\\033[1m\\033[3mEnter second number: \\033[0m\"\n",
        "\n",
        "num_1 = int(input(enter_1))\n",
        "num_2 = int(input(enter_2))\n",
        "\n",
        "def division(num1,num2):\n",
        "  division = num1//num2\n",
        "  remainder = num1%num2\n",
        "  return division,remainder\n",
        "\n",
        "answer:list=division(num_1,num_2)\n",
        "\n",
        "\n",
        "print(f'The Result of Division of {num_1} and {num_2} is : \\033[1m\\033[3m{answer[0]}\\033[0m with a remainder of: \\033[1m\\033[3m{answer[1]}\\033[0m')"
      ],
      "metadata": {
        "colab": {
          "base_uri": "https://localhost:8080/"
        },
        "id": "CoeIvQBymicm",
        "outputId": "9daadf51-5027-4961-ed29-fc42568daccd"
      },
      "execution_count": 5,
      "outputs": [
        {
          "output_type": "stream",
          "name": "stdout",
          "text": [
            "05_remainder-division.py\n",
            "\u001b[1m\u001b[3mEnter first number: \u001b[0m7\n",
            "\u001b[1m\u001b[3mEnter second number: \u001b[0m3\n",
            "The Result of Division of 7 and 3 is : \u001b[1m\u001b[3m2\u001b[0m with a remainder of: \u001b[1m\u001b[3m1\u001b[0m\n"
          ]
        }
      ]
    },
    {
      "cell_type": "code",
      "source": [
        "print(\"06_roll-dice.py\")\n",
        "import random\n",
        "\n",
        "print(\"Let's roll some dice!\")\n",
        "\n",
        "def roll_dice():\n",
        "  die_1 = random.randint(1,6)\n",
        "  die_2 = random.randint(1,6)\n",
        "  return die_1,die_2\n",
        "\n",
        "roll = roll_dice()\n",
        "\n",
        "print (f\"Die 1: {roll[0]}\")\n",
        "print (f\"Die 2: {roll[1]}\")\n",
        "print (f\"Total: {sum(roll)}\")"
      ],
      "metadata": {
        "colab": {
          "base_uri": "https://localhost:8080/"
        },
        "id": "A7VV-YNUnE6k",
        "outputId": "d9f37bae-533b-40f1-8d06-a0fa824127fd"
      },
      "execution_count": 6,
      "outputs": [
        {
          "output_type": "stream",
          "name": "stdout",
          "text": [
            "06_roll-dice.py\n",
            "Let's roll some dice!\n",
            "Die 1: 6\n",
            "Die 2: 4\n",
            "Total: 10\n"
          ]
        }
      ]
    },
    {
      "cell_type": "code",
      "source": [
        "print(\"07_seconds-in-a-year.py\")\n",
        "print(\"LETS CALCULATE NUMBER OF SECONDS IN A YEAR\")\n",
        "\n",
        "days_in_year = 365\n",
        "hours_in_day = 24\n",
        "minutes_in_hour = 60\n",
        "seconds_in_minute = 60\n",
        "\n",
        "seconds_in_year = days_in_year * hours_in_day * minutes_in_hour * seconds_in_minute\n",
        "\n",
        "print(f'There are {seconds_in_year} seconds in a year')"
      ],
      "metadata": {
        "colab": {
          "base_uri": "https://localhost:8080/"
        },
        "id": "EBSLUuCync8E",
        "outputId": "4efcf0fe-e055-43c5-ad56-93bd2c4f20df"
      },
      "execution_count": 7,
      "outputs": [
        {
          "output_type": "stream",
          "name": "stdout",
          "text": [
            "07_seconds-in-a-year.py\n",
            "LETS CALCULATE NUMBER OF SECONDS IN A YEAR\n",
            "There are 31536000 seconds in a year\n"
          ]
        }
      ]
    },
    {
      "cell_type": "code",
      "source": [
        "print(\"08_fun-sentence.py\")\n",
        "enter_adjective = \"Enter an adjective: \"\n",
        "enter_noun = \"Enter a noun: \"\n",
        "enter_verb = \"Enter a verb: \"\n",
        "\n",
        "adjective = input(enter_adjective)\n",
        "noun = input(enter_noun)\n",
        "verb = input(enter_verb)\n",
        "\n",
        "\n",
        "sample_sentence = \"Code in Place is fun. I learned to program and used Python to make my\"\n",
        "\n",
        "print (f\"{sample_sentence} {adjective} {noun} {verb}!\")"
      ],
      "metadata": {
        "colab": {
          "base_uri": "https://localhost:8080/"
        },
        "id": "M0XZiUmlnpmo",
        "outputId": "99336aff-703c-47d3-b444-3ec503867fde"
      },
      "execution_count": 9,
      "outputs": [
        {
          "output_type": "stream",
          "name": "stdout",
          "text": [
            "08_fun-sentence.py\n",
            "Enter an adjective: cute\n",
            "Enter a noun: cat\n",
            "Enter a verb: sleep\n",
            "Code in Place is fun. I learned to program and used Python to make my cute cat sleep!\n"
          ]
        }
      ]
    }
  ]
}