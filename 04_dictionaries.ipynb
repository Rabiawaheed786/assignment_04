{
  "nbformat": 4,
  "nbformat_minor": 0,
  "metadata": {
    "colab": {
      "provenance": [],
      "authorship_tag": "ABX9TyM+0uyIuTfVCAGun8x5XNW3",
      "include_colab_link": true
    },
    "kernelspec": {
      "name": "python3",
      "display_name": "Python 3"
    },
    "language_info": {
      "name": "python"
    }
  },
  "cells": [
    {
      "cell_type": "markdown",
      "metadata": {
        "id": "view-in-github",
        "colab_type": "text"
      },
      "source": [
        "<a href=\"https://colab.research.google.com/github/Rabiawaheed786/assignment_04/blob/main/04_dictionaries.ipynb\" target=\"_parent\"><img src=\"https://colab.research.google.com/assets/colab-badge.svg\" alt=\"Open In Colab\"/></a>"
      ]
    },
    {
      "cell_type": "code",
      "execution_count": null,
      "metadata": {
        "id": "-XxalxG6xUW1"
      },
      "outputs": [],
      "source": [
        "print(\"00_counts_num.py\")\n",
        "number_counts = {}\n",
        "\n",
        "\n",
        "while True:\n",
        "\n",
        "    user_input = input(\"Enter a number: \")\n",
        "\n",
        "\n",
        "    if user_input == \"\":\n",
        "        break\n",
        "\n",
        "\n",
        "    number = int(user_input)\n",
        "\n",
        "\n",
        "    if number in number_counts:\n",
        "        number_counts[number] += 1\n",
        "    else:\n",
        "        number_counts[number] = 1\n",
        "\n",
        "\n",
        "for number, count in number_counts.items():\n",
        "    print(f\"{number} appears {count} times.\")\n",
        "print(number_counts)"
      ]
    },
    {
      "cell_type": "code",
      "source": [
        "print(\"01_phonebook.py\")\n",
        "phonebk = {}\n",
        "n=1\n",
        "while True:\n",
        "  ask = input(\"\\nEnter the option:\\n\\n1. add a contact \\n2. view phone book  \\n3. delete contact \\n4. Exit \\n\" )\n",
        "\n",
        "  if ask == '':\n",
        "    print(\"invalid option\")\n",
        "    break\n",
        "  elif ask == \"1\":\n",
        "    print(\"\\nAdd a contact in Phone book\")\n",
        "    print(\"=\"*25)\n",
        "    name = input (\" enter name: \")\n",
        "    number = input(\" enter number: \")\n",
        "\n",
        "    phonebk[name]= number\n",
        "  elif ask ==\"2\":\n",
        "    print(\"\\nPhone book\")\n",
        "    print(\"=\"*10)\n",
        "    if not phonebk:\n",
        "      print(\"phone book is empty\")\n",
        "    else:\n",
        "      for i in phonebk:\n",
        "\n",
        "        print(f\"{n}. {i} : {phonebk[i]}\")\n",
        "        n += 1\n",
        "  elif ask =='3':\n",
        "    ask_delete = input (\"enter the name u want to delte: \")\n",
        "\n",
        "    if phonebk[ask_delete]:\n",
        "      del phonebk[ask_delete]\n",
        "      print(f\"{ask_delete} has been deleted successfully\")\n",
        "    else:\n",
        "      print(\"name not found\")\n",
        "  elif ask == \"4\":\n",
        "    print(\"Thanks for using Phone book\")\n",
        "    break\n",
        "  else:\n",
        "    print(\"invalid option\")\n",
        "    break\n"
      ],
      "metadata": {
        "id": "GnmfMKIIxmc3"
      },
      "execution_count": null,
      "outputs": []
    },
    {
      "cell_type": "code",
      "source": [
        "print(\"02_pop_up_shop.py\")\n",
        "\n",
        "fruit_list={'apple':200,\n",
        "            'banana':150,\n",
        "            'cherryfruit':200,\n",
        "            'pear':100,\n",
        "            'grapes':200}\n",
        "\n",
        "total_cost = 0\n",
        "for i in fruit_list:\n",
        "\n",
        "  price = fruit_list[i]\n",
        "\n",
        "  amount = int(input(f\"How many {i} u want to buy? \"))\n",
        "  total_cost += amount * price\n",
        "\n",
        "print(\"total cost\", total_cost)"
      ],
      "metadata": {
        "id": "vNpuzpcDxzpS"
      },
      "execution_count": null,
      "outputs": []
    },
    {
      "cell_type": "code",
      "source": [
        "print(\"03_powrful_password.py\")\n",
        "from hashlib import sha256\n",
        "\n",
        "def hash_password(password):\n",
        "    return sha256(password.encode()).hexdigest()\n",
        "\n",
        "def main():\n",
        "  stored_data={'samreen':'bbbbb029366f4d6b1385fc561ff3ee1a791612b579ecd8685ddce907ce8a0c9c',\n",
        "               'example':'eca1dbf552edfe3038ad272d4d7f331c2a01a48eecc0e555b63f2aad9061a929'}\n",
        "\n",
        "  username = input(\"enter username: \")\n",
        "  password = input(\"enter password: \")\n",
        "  check_password = hash_password(password)\n",
        "\n",
        "  if username in stored_data:\n",
        "   if check_password == stored_data[username]:\n",
        "    print(\"login successful\")\n",
        "   else:\n",
        "    print(\"invalid password\")\n",
        "  else:\n",
        "    print(\"invalid username\")\n",
        "\n",
        "if __name__ == \"__main__\":\n",
        "    main()\n",
        "\n"
      ],
      "metadata": {
        "id": "v9qoiH82yGC_"
      },
      "execution_count": null,
      "outputs": []
    }
  ]
}