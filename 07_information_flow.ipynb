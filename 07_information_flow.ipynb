{
  "nbformat": 4,
  "nbformat_minor": 0,
  "metadata": {
    "colab": {
      "provenance": [],
      "authorship_tag": "ABX9TyOKnQN4sASfvZPQA+6KTbyC",
      "include_colab_link": true
    },
    "kernelspec": {
      "name": "python3",
      "display_name": "Python 3"
    },
    "language_info": {
      "name": "python"
    }
  },
  "cells": [
    {
      "cell_type": "markdown",
      "metadata": {
        "id": "view-in-github",
        "colab_type": "text"
      },
      "source": [
        "<a href=\"https://colab.research.google.com/github/Rabiawaheed786/assignment_04/blob/main/07_information_flow.ipynb\" target=\"_parent\"><img src=\"https://colab.research.google.com/assets/colab-badge.svg\" alt=\"Open In Colab\"/></a>"
      ]
    },
    {
      "cell_type": "code",
      "execution_count": null,
      "metadata": {
        "id": "OOBl_iyL4i_q"
      },
      "outputs": [],
      "source": [
        "print(\"00_choosing_returns.py\")\n",
        "\n",
        "adult_age = 18\n",
        "\n",
        "def check_age(age:int):\n",
        "  if age>=adult_age:\n",
        "    print(\"Entered age is an adult age\")\n",
        "    return True\n",
        "  else:\n",
        "    print(\"Entered age is not an adult age\")\n",
        "    return False\n",
        "def main():\n",
        "  age = int(input(\"enter your age? \"))\n",
        "  print(check_age(age))\n",
        "\n",
        "if __name__ == \"__main__\":\n",
        "  main()"
      ]
    },
    {
      "cell_type": "code",
      "source": [
        "print(\"01_greetings.py\")\n",
        "\n",
        "def greetings(name:str):\n",
        "\n",
        "  return(f\"Greetings with ❤ {name} !!!\")\n",
        "def main():\n",
        "  enter_name= input(\"enter your name: \")\n",
        "  print(greetings(enter_name))\n",
        "if __name__ == \"__main__\":\n",
        "  main()"
      ],
      "metadata": {
        "id": "9Y3RKoCG43yT"
      },
      "execution_count": null,
      "outputs": []
    },
    {
      "cell_type": "code",
      "source": [
        "print(\"02_in_range.py\")\n",
        "\n",
        "def in_range(num,low,high):\n",
        "  if num> low and num < high:\n",
        "    print (f\"{num} is in range between {low} and {high}\")\n",
        "    return True\n",
        "  else:\n",
        "    print (f\"{num} is not in range between {low} and {high}\")\n",
        "    return False\n",
        "def main():\n",
        "  ask_num1 = int(input(\"enter number: \"))\n",
        "  ask_num2 = int(input(\"enter number: \"))\n",
        "  ask_num3 = int(input(\"enter number: \"))\n",
        "  print(in_range(ask_num1,ask_num2,ask_num3))\n",
        "\n",
        "if __name__ == \"__main__\":\n",
        "  main()"
      ],
      "metadata": {
        "id": "mzpG0pCt5F9H"
      },
      "execution_count": null,
      "outputs": []
    },
    {
      "cell_type": "code",
      "source": [
        "print(\"03_in_stock.py\")\n",
        "\n",
        "fruit = [\"apple\",\"banana\",\"orange\",\"grape\"]\n",
        "\n",
        "def in_stock(name:str):\n",
        "  if name in fruit:\n",
        "    print(f\"{name} is in stock\")\n",
        "    if name == \"apple\":\n",
        "      return 2\n",
        "    elif name == \"banana\":\n",
        "      return 5\n",
        "    elif name == \"orange\":\n",
        "      return 10\n",
        "    elif name == \"grape\":\n",
        "      return 15\n",
        "\n",
        "\n",
        "\n",
        "  else:\n",
        "    print(f\"{name} is not in stock\")\n",
        "    return 0\n",
        "\n",
        "def main():\n",
        "  ask = input(\"enter fruit name: \")\n",
        "  count_stock = in_stock(ask)\n",
        "\n",
        "  if count_stock !=0:\n",
        "    print(f\"Here is How many! \\n {count_stock}\")\n",
        "  else:\n",
        "    print(\"Sorry! the fruit is not available\")\n",
        "\n",
        "\n",
        "if __name__== \"__main__\":\n",
        "  main()\n"
      ],
      "metadata": {
        "id": "60xjoj985dCV"
      },
      "execution_count": null,
      "outputs": []
    },
    {
      "cell_type": "code",
      "source": [
        "print(\"04_multiple_returns.py\")\n",
        "\n",
        "\n",
        "def user_data():\n",
        " ask_first_name= input(\"ENter first name: \")\n",
        " ask_last_name = input(\"Enter last name: \")\n",
        " ask_email_address = input(\"Enter email address: \")\n",
        " return (ask_first_name,ask_last_name,ask_email_address)\n",
        "def main():\n",
        "  store_user_data= user_data()\n",
        "  print(\"\\nRecieved data from user: \",store_user_data)\n",
        "\n",
        "if __name__ == \"__main__\":\n",
        "  main()"
      ],
      "metadata": {
        "id": "6F6Ht5XL5tf2"
      },
      "execution_count": null,
      "outputs": []
    },
    {
      "cell_type": "code",
      "source": [
        "print(\"05_subtract_7.py\")\n",
        "\n",
        "\n",
        "def sub_7(num:int):\n",
        "  if num > 7:\n",
        "    return num - 7\n",
        "  else:\n",
        "    return num + 5\n",
        "def main():\n",
        "  num = int(input(\"enter number: \"))\n",
        "  if num > 7:\n",
        "    print(\"after subtracting 7 : \",sub_7(num))\n",
        "  else:\n",
        "    print(\"after adding 5 : \",sub_7(num))\n",
        "\n",
        "if __name__ == \"__main__\":\n",
        "  main()"
      ],
      "metadata": {
        "id": "Pfc6L7tf58so"
      },
      "execution_count": null,
      "outputs": []
    }
  ]
}