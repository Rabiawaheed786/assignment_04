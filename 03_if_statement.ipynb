{
  "nbformat": 4,
  "nbformat_minor": 0,
  "metadata": {
    "colab": {
      "provenance": [],
      "authorship_tag": "ABX9TyP8WbIRc5C/GuMNPn0CBOEZ",
      "include_colab_link": true
    },
    "kernelspec": {
      "name": "python3",
      "display_name": "Python 3"
    },
    "language_info": {
      "name": "python"
    }
  },
  "cells": [
    {
      "cell_type": "markdown",
      "metadata": {
        "id": "view-in-github",
        "colab_type": "text"
      },
      "source": [
        "<a href=\"https://colab.research.google.com/github/Rabiawaheed786/assignment_04/blob/main/03_if_statement.ipynb\" target=\"_parent\"><img src=\"https://colab.research.google.com/assets/colab-badge.svg\" alt=\"Open In Colab\"/></a>"
      ]
    },
    {
      "cell_type": "code",
      "source": [
        "print(\"01_print_events.py\")\n",
        "\n",
        "\n",
        "for i in range(20):\n",
        "  print(i*2, end=\" \")\n",
        "print(\"\\n\")\n",
        "even_numbers = [2 * i for i in range(20)]\n",
        "print(even_numbers,\" \")"
      ],
      "metadata": {
        "colab": {
          "base_uri": "https://localhost:8080/"
        },
        "id": "u4LqHCpDvKzw",
        "outputId": "e50dc90b-b473-4611-e73b-83c5e1cc4914"
      },
      "execution_count": 1,
      "outputs": [
        {
          "output_type": "stream",
          "name": "stdout",
          "text": [
            "01_print_events.py\n",
            "0 2 4 6 8 10 12 14 16 18 20 22 24 26 28 30 32 34 36 38 \n",
            "\n",
            "[0, 2, 4, 6, 8, 10, 12, 14, 16, 18, 20, 22, 24, 26, 28, 30, 32, 34, 36, 38]  \n"
          ]
        }
      ]
    },
    {
      "cell_type": "code",
      "source": [
        "print(\"02_internation_voting_age.py\")\n",
        "\n",
        "age = int(input (\"Enter your age: \"))\n",
        "\n",
        "if age >=16 and age <= 25 :\n",
        "  print(\"You can vote in Peturksbouipo but not in Stanlu and Mayengu\")\n",
        "elif age >=25 and age <= 48:\n",
        "  print(\"You can vote in both Peturksbouipo  and Stanlau but not in Mayengu\")\n",
        "elif age >=48:\n",
        "  print(\"You can vote in all three countries\")\n",
        "else:\n",
        "  print(\"You can't vote in any of  three countries\")"
      ],
      "metadata": {
        "colab": {
          "base_uri": "https://localhost:8080/"
        },
        "id": "kozDeIdMvdk2",
        "outputId": "128aa23d-2ffa-4e5f-cfb2-204128d43914"
      },
      "execution_count": 2,
      "outputs": [
        {
          "output_type": "stream",
          "name": "stdout",
          "text": [
            "02_internation_voting_age.py\n",
            "Enter your age: 25\n",
            "You can vote in Peturksbouipo but not in Stanlu and Mayengu\n"
          ]
        }
      ]
    },
    {
      "cell_type": "code",
      "source": [
        "print(\"03_leap_year.py\")\n",
        "year= int(input(\"Enter a year: \"))\n",
        "\n",
        "\n",
        "print(f\"\"\"A year is a leap year if:\n",
        "It is divisible by 4, and\n",
        "\n",
        "If it is divisible by 100, it must also be divisible by 400 to be a leap year.\"\"\")\n",
        "\n",
        "print(f\"\\ndivisible by 4 = {year / 4} \\ndivisible by 100 = {year / 100} \\ndivisible by 400 = {year / 400}\")\n",
        "\n",
        "if (year % 4  == 0 and  year %100 !=0) or year%400==0:\n",
        "\n",
        "  print(\"its a leap year\")\n",
        "else:\n",
        "  print(\"its not a leap year\")"
      ],
      "metadata": {
        "colab": {
          "base_uri": "https://localhost:8080/"
        },
        "id": "hYFaMz2bv1Vm",
        "outputId": "29fa922b-0ade-45ed-f845-d82447159c0f"
      },
      "execution_count": 3,
      "outputs": [
        {
          "output_type": "stream",
          "name": "stdout",
          "text": [
            "03_leap_year.py\n",
            "Enter a year: 22222\n",
            "A year is a leap year if:\n",
            "It is divisible by 4, and\n",
            "\n",
            "If it is divisible by 100, it must also be divisible by 400 to be a leap year.\n",
            "\n",
            "divisible by 4 = 5555.5 \n",
            "divisible by 100 = 222.22 \n",
            "divisible by 400 = 55.555\n",
            "its not a leap year\n"
          ]
        }
      ]
    },
    {
      "cell_type": "code",
      "source": [
        "print(\"04_tall_enough_to_ride.py\")\n",
        "\n",
        "\n",
        "while True:\n",
        "  try:\n",
        "    height = int(input(\"How tall are you? (Leave blank to stop) \"))\n",
        "\n",
        "    if height == \"\":\n",
        "        break\n",
        "\n",
        "    if height >= 50:\n",
        "        print(\"You're tall enough to ride!\")\n",
        "    else:\n",
        "        print(\"You're not tall enough to ride, but maybe next year!\")\n",
        "  except:\n",
        "    print(\"\\nyou havent enter any height\")\n",
        "    break"
      ],
      "metadata": {
        "colab": {
          "base_uri": "https://localhost:8080/"
        },
        "id": "Mhrx8hZFwFIm",
        "outputId": "1f6880e6-449c-4683-a22f-03de28b9a79a"
      },
      "execution_count": 4,
      "outputs": [
        {
          "output_type": "stream",
          "name": "stdout",
          "text": [
            "04_tall_enough_to_ride.py\n",
            "How tall are you? (Leave blank to stop) 47\n",
            "You're not tall enough to ride, but maybe next year!\n",
            "How tall are you? (Leave blank to stop) \n",
            "\n",
            "you havent enter any height\n"
          ]
        }
      ]
    },
    {
      "cell_type": "code",
      "source": [
        "print(\"05_random_numbers.py\")\n",
        "import random\n",
        "\n",
        "for i in range(10):\n",
        "  print (random.randint(1,100),end=\" \")"
      ],
      "metadata": {
        "colab": {
          "base_uri": "https://localhost:8080/"
        },
        "id": "ECNEioMxwjgE",
        "outputId": "3306bd16-e40c-4ba8-f5ae-e93b26c75291"
      },
      "execution_count": 5,
      "outputs": [
        {
          "output_type": "stream",
          "name": "stdout",
          "text": [
            "05_random_numbers.py\n",
            "80 46 59 5 13 100 10 91 34 20 "
          ]
        }
      ]
    },
    {
      "cell_type": "code",
      "source": [],
      "metadata": {
        "id": "zxw-ZS7SwuHE"
      },
      "execution_count": null,
      "outputs": []
    }
  ]
}