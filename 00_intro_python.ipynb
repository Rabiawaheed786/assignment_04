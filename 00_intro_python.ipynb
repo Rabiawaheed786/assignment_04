{
  "cells": [
    {
      "cell_type": "markdown",
      "metadata": {
        "id": "view-in-github",
        "colab_type": "text"
      },
      "source": [
        "<a href=\"https://colab.research.google.com/github/Rabiawaheed786/assignment_04/blob/main/00_intro_python.ipynb\" target=\"_parent\"><img src=\"https://colab.research.google.com/assets/colab-badge.svg\" alt=\"Open In Colab\"/></a>"
      ]
    },
    {
      "cell_type": "code",
      "execution_count": null,
      "metadata": {
        "colab": {
          "base_uri": "https://localhost:8080/"
        },
        "id": "NoBTNAS3xfcM",
        "outputId": "52b460d2-d73d-4b01-cdb0-44ca93488e23"
      },
      "outputs": [
        {
          "name": "stdout",
          "output_type": "stream",
          "text": [
            "01_add_two_numbers\n",
            "This application for add two number\n",
            "enter your second number9\n",
            "The total sum of 5 and 9 is 14\n"
          ]
        }
      ],
      "source": [
        "\n",
        "print(\"01_add_two_numbers\")\n",
        "\n",
        "def add():\n",
        "  print(\"This application for add two number\")\n",
        "  first_number = int(input(\"enter your first number. \"))\n",
        "  second_number = int(input(\"enter your second number\"))\n",
        "  total = int(first_number + second_number)\n",
        "  print(f'The total sum of {first_number} and {second_number} is {total}')\n",
        "\n",
        "if __name__ == \"__main__\":\n",
        "   add()"
      ]
    },
    {
      "cell_type": "code",
      "execution_count": null,
      "metadata": {
        "colab": {
          "base_uri": "https://localhost:8080/"
        },
        "id": "Bgv48xO6xp1h",
        "outputId": "8c07679a-f0b5-4de0-caa2-60d6e9a6ab85"
      },
      "outputs": [
        {
          "output_type": "stream",
          "name": "stdout",
          "text": [
            "02_agreement_bot\n",
            "what is your favourite animal is?  duck\n",
            "My favourite animal is also duck!\n"
          ]
        }
      ],
      "source": [
        "print(\"02_agreement_bot\")\n",
        "\n",
        "def bot():\n",
        "    animal = str(input(\"what is your favourite animal is?  \"))\n",
        "    print(f'My favourite animal is also {animal}!')\n",
        "\n",
        "if __name__ == \"__main__\":\n",
        "    bot()\n",
        "\n"
      ]
    },
    {
      "cell_type": "code",
      "execution_count": null,
      "metadata": {
        "colab": {
          "background_save": true,
          "base_uri": "https://localhost:8080/"
        },
        "id": "UMDEFl8D3bZI",
        "outputId": "4c4db620-8334-4a34-9c67-5baa83efa9f0"
      },
      "outputs": [
        {
          "name": "stdout",
          "output_type": "stream",
          "text": [
            "03 fahrenheit_to_celsius\n",
            "this code for converting fahrenheit_to_celsius\n",
            "Tempereture57.0 = 13.88888888888889 c\n"
          ]
        }
      ],
      "source": [
        "print(\"03 fahrenheit_to_celsius\")\n",
        "\n",
        "def temp():\n",
        "  print(\"this code for converting fahrenheit_to_celsius\")\n",
        "  fahrenheit_degree = float(input(\"Enter your fahrenheit degree.\"))\n",
        "  celsius_degree = (fahrenheit_degree - 32) * 5/9\n",
        "  print(f'Tempereture{fahrenheit_degree} = {celsius_degree} c')\n",
        "if __name__ == \"__main__\":\n",
        "  temp()\n",
        "\n"
      ]
    },
    {
      "cell_type": "code",
      "source": [
        "print(\"04_how_old_are_they\")\n",
        "\n",
        "def add_ages():\n",
        "  anton: int = 21\n",
        "  beth: int = anton + 6\n",
        "  Chen: int = beth + 20\n",
        "  drew: int = Chen + anton\n",
        "  ethan: int = Chen\n",
        "  print(\"Anton is\"  + str(anton))\n",
        "  print(\"Beth is\"  + str(beth))\n",
        "  print(\"Chen is\"  + str(Chen))\n",
        "  print(\"Drew is\" + str(drew))\n",
        "  print(\"Ethan is\" + str(ethan))\n",
        "\n",
        "\n",
        "if __name__ == \"__main__\":\n",
        "  add_ages()\n",
        "\n",
        "\n",
        "#"
      ],
      "metadata": {
        "colab": {
          "base_uri": "https://localhost:8080/"
        },
        "id": "kp3ejyiQ4HBD",
        "outputId": "bcccca77-bb7e-4a8c-de7a-ffb7065c3b0b"
      },
      "execution_count": null,
      "outputs": [
        {
          "output_type": "stream",
          "name": "stdout",
          "text": [
            "04_how_old_are_they\n",
            "Anton is21\n",
            "Beth is27\n",
            "Chen is47\n",
            "Drew is68\n",
            "Ethan is47\n"
          ]
        }
      ]
    },
    {
      "cell_type": "code",
      "source": [
        "print(\"05_triangle_perimeter\")\n",
        "\n",
        "def triangle():\n",
        "  print(\"This code is about preimeter  of triangle sides\")\n",
        "  side1:float = float(input(\"Enter your first side no of triangle.\"))\n",
        "  side2:float = float(input(\"Enter your second side no of triangle.\"))\n",
        "  side3:float = float(input(\"Enter your third side no of triangle.\"))\n",
        "  total:float = float (side1 + side2 + side3)\n",
        "  print(f'The perimeter of the triangle is  {total}')\n",
        "\n",
        "if __name__ == \"__main__\":\n",
        "  triangle()"
      ],
      "metadata": {
        "colab": {
          "base_uri": "https://localhost:8080/"
        },
        "id": "DI_-PFHbqQ5T",
        "outputId": "1bd577eb-f6e1-448f-fcd9-848a493fe6cc"
      },
      "execution_count": null,
      "outputs": [
        {
          "output_type": "stream",
          "name": "stdout",
          "text": [
            "05_triangle_perimeter\n",
            "This code is about preimeter  of triangle sides\n",
            "Enter your first side no of triangle.5\n",
            "Enter your second side no of triangle.3\n",
            "Enter your third side no of triangle.2\n",
            "The perimeter of the triangle is  10.0\n"
          ]
        }
      ]
    },
    {
      "cell_type": "code",
      "source": [
        "print(\"06 square number\")\n",
        "def square():\n",
        "  print(\"This code is about square of given number\")\n",
        "  num1:int = int(input(\"Enter any number and i will give u a square value.\"))\n",
        "  print(f\"The square of {num1} is {num1**2}\")\n",
        "\n",
        "if __name__ == \"__main__\":\n",
        "  square()"
      ],
      "metadata": {
        "colab": {
          "base_uri": "https://localhost:8080/"
        },
        "id": "uklZgt-esscE",
        "outputId": "213106ea-018f-4411-d67d-f8b06410a0f0"
      },
      "execution_count": null,
      "outputs": [
        {
          "output_type": "stream",
          "name": "stdout",
          "text": [
            "06 square number\n",
            "This code is about square of given number\n",
            "Enter any number and i will give u a square value.5\n",
            "The square of 5 is 25\n"
          ]
        }
      ]
    },
    {
      "cell_type": "code",
      "source": [],
      "metadata": {
        "id": "iEsAub2Nt3h7"
      },
      "execution_count": null,
      "outputs": []
    }
  ],
  "metadata": {
    "colab": {
      "provenance": [],
      "authorship_tag": "ABX9TyPKXAPJSMClTzyIUJpRhPNu",
      "include_colab_link": true
    },
    "kernelspec": {
      "display_name": "Python 3",
      "name": "python3"
    },
    "language_info": {
      "name": "python"
    }
  },
  "nbformat": 4,
  "nbformat_minor": 0
}